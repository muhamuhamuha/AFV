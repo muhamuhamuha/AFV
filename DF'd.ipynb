{
 "cells": [
  {
   "cell_type": "code",
   "execution_count": 1304,
   "metadata": {},
   "outputs": [],
   "source": [
    "import xlwings as xw\n",
    "import pandas as pd\n",
    "import numpy as np\n",
    "import re\n",
    "from pathlib import Path\n",
    "from dataclasses import (\n",
    "    dataclass,\n",
    "    field,\n",
    ")\n",
    "from datetime import (\n",
    "    datetime as dt,\n",
    ")\n",
    "from openpyxl.utils import (\n",
    "    get_column_letter as col_let,\n",
    ")\n",
    "from typing import (\n",
    "    List,\n",
    "    Dict,\n",
    "    TypeVar,\n",
    "    Callable,\n",
    ")"
   ]
  },
  {
   "cell_type": "code",
   "execution_count": 1066,
   "metadata": {},
   "outputs": [
    {
     "data": {
      "text/plain": [
       "WindowsPath('C:/Users/424595/Desktop')"
      ]
     },
     "execution_count": 1066,
     "metadata": {},
     "output_type": "execute_result"
    }
   ],
   "source": [
    "deskPath = Path.home() / 'Desktop'\n",
    "deskPath"
   ]
  },
  {
   "cell_type": "markdown",
   "metadata": {},
   "source": [
    "## TypeVars"
   ]
  },
  {
   "cell_type": "code",
   "execution_count": 1067,
   "metadata": {},
   "outputs": [],
   "source": [
    "xwBook = TypeVar(xw.main.Book)\n",
    "xwSheet = TypeVar(xw.main.Sheet)\n",
    "xwRange = TypeVar(xw.main.Range)\n",
    "pdDataFrame = TypeVar(pd.core.frame.DataFrame)"
   ]
  },
  {
   "cell_type": "markdown",
   "metadata": {},
   "source": [
    "## Automating Book Selections from Open Books"
   ]
  },
  {
   "cell_type": "markdown",
   "metadata": {},
   "source": [
    "#### Demonstrative DT Function"
   ]
  },
  {
   "cell_type": "code",
   "execution_count": 1068,
   "metadata": {},
   "outputs": [
    {
     "data": {
      "text/plain": [
       "False"
      ]
     },
     "execution_count": 1068,
     "metadata": {},
     "output_type": "execute_result"
    }
   ],
   "source": [
    "dt.strptime('2019 January', '%Y %B') > dt.strptime('2019 December', '%Y %B')"
   ]
  },
  {
   "cell_type": "markdown",
   "metadata": {},
   "source": [
    "### AFV Sheets"
   ]
  },
  {
   "cell_type": "code",
   "execution_count": 1069,
   "metadata": {},
   "outputs": [],
   "source": [
    "def redefine_sheets(book: xwBook = xw.books.active) -> Dict[str, xwSheet]:\n",
    "    '''Creates a dictionary object of the book's sheets.'''\n",
    "    return {s.name: s for s in book.sheets}"
   ]
  },
  {
   "cell_type": "code",
   "execution_count": 1070,
   "metadata": {},
   "outputs": [],
   "source": [
    "newAFV = redefine_sheets()"
   ]
  },
  {
   "cell_type": "code",
   "execution_count": 1071,
   "metadata": {},
   "outputs": [],
   "source": [
    "tots = newAFV['Annual Totals']"
   ]
  },
  {
   "cell_type": "code",
   "execution_count": 1072,
   "metadata": {
    "scrolled": true
   },
   "outputs": [],
   "source": [
    "@dataclass\n",
    "class SheetCorners:\n",
    "    '''TODO: add default values that calculate start positions'''\n",
    "    sheet: xwSheet = field(repr=False)\n",
    "    down: xwRange = field(init=False)\n",
    "    right: xwRange = field(init=False)\n",
    "        \n",
    "    def __post_init__(self):\n",
    "        self.down = self.sheet['A1048576'].end('up')\n",
    "        self.right = self.sheet['XFD1'].end('left')\n",
    "        self.downright = self.right.offset(self.down.row - 1, 0)\n",
    "        self.entire_range = self.sheet['A1:' + self.downright.address]\n",
    "    "
   ]
  },
  {
   "cell_type": "markdown",
   "metadata": {},
   "source": [
    "# Flipping the Totals"
   ]
  },
  {
   "cell_type": "code",
   "execution_count": 1073,
   "metadata": {
    "scrolled": true
   },
   "outputs": [],
   "source": [
    "# tots.book.sheets.add('Flipped Totals')"
   ]
  },
  {
   "cell_type": "code",
   "execution_count": 1074,
   "metadata": {},
   "outputs": [],
   "source": [
    "newAFV = redefine_sheets()"
   ]
  },
  {
   "cell_type": "code",
   "execution_count": 1075,
   "metadata": {},
   "outputs": [],
   "source": [
    "# flip = newAFV['Flipped Totals']"
   ]
  },
  {
   "cell_type": "code",
   "execution_count": 1076,
   "metadata": {},
   "outputs": [],
   "source": [
    "# tots[SheetCorners(tots).entire_range.address].api.Copy()\n",
    "# newAFV['Flipped Totals']['A1'].api.PasteSpecial(\n",
    "#     Paste=-4163,\n",
    "#     Operation=-4142,\n",
    "#     SkipBlanks=False,\n",
    "#     Transpose=True,\n",
    "# )"
   ]
  },
  {
   "cell_type": "code",
   "execution_count": 1077,
   "metadata": {},
   "outputs": [],
   "source": [
    "def _delete_flip():\n",
    "    tots.book.app.display_alerts = False\n",
    "    flip.api.Delete()\n",
    "    tots.book.app.display_alerts = True    "
   ]
  },
  {
   "cell_type": "markdown",
   "metadata": {},
   "source": [
    "### Merging/Unmerging"
   ]
  },
  {
   "cell_type": "code",
   "execution_count": 1078,
   "metadata": {},
   "outputs": [],
   "source": [
    "# flip['D1:A1'].api.MergeCells = True\n",
    "# flip['D2:A2'].api.MergeCells = True\n",
    "# flip['D3:A3'].api.MergeCells = True"
   ]
  },
  {
   "cell_type": "markdown",
   "metadata": {},
   "source": [
    "# PD'd"
   ]
  },
  {
   "cell_type": "code",
   "execution_count": 1079,
   "metadata": {},
   "outputs": [],
   "source": [
    "# tots.book.api.SaveAs(str(deskPath / 'DropDir' / tots.book.name))"
   ]
  },
  {
   "cell_type": "code",
   "execution_count": 1080,
   "metadata": {},
   "outputs": [],
   "source": [
    "# flipDF = pd.read_excel(\n",
    "#     tots.book.fullname,\n",
    "#     header=[0],\n",
    "#     index_col=[0, 1, 2, 3],\n",
    "#     sheet_name='Flipped Totals'\n",
    "# )"
   ]
  },
  {
   "cell_type": "code",
   "execution_count": 1081,
   "metadata": {},
   "outputs": [],
   "source": [
    "flipDF = pd.DataFrame(\n",
    "    tots[SheetCorners(tots).entire_range.address].value\n",
    ").transpose()"
   ]
  },
  {
   "cell_type": "markdown",
   "metadata": {},
   "source": [
    "### Cols Renamed"
   ]
  },
  {
   "cell_type": "code",
   "execution_count": 1082,
   "metadata": {},
   "outputs": [],
   "source": [
    "def flip_cols():\n",
    "    '''Computes the columns in flipDF with a cleaned first row.'''\n",
    "    return flipDF.iloc[0, :].fillna(\n",
    "        {i: 'LEVEL_' + str(i) for i in range(4)}\n",
    "    ).replace(\n",
    "        {'Year': 'LEVEL_3'}\n",
    "    )        "
   ]
  },
  {
   "cell_type": "code",
   "execution_count": 1083,
   "metadata": {
    "scrolled": true
   },
   "outputs": [],
   "source": [
    "flipDF.rename(columns=flip_cols(), inplace=True)"
   ]
  },
  {
   "cell_type": "code",
   "execution_count": 1084,
   "metadata": {},
   "outputs": [],
   "source": [
    "flipDF.drop(0, inplace=True)"
   ]
  },
  {
   "cell_type": "code",
   "execution_count": 1085,
   "metadata": {},
   "outputs": [],
   "source": [
    "flipDF['CLEAN_3'] = flipDF['LEVEL_3']\n",
    "flipDF['CLEAN_3'].fillna(\n",
    "    flipDF['LEVEL_2'],\n",
    "    inplace=True,\n",
    ")\n",
    "flipDF['CLEAN_3'].fillna(\n",
    "    flipDF['LEVEL_1'],\n",
    "    inplace=True\n",
    ")"
   ]
  },
  {
   "cell_type": "code",
   "execution_count": 1086,
   "metadata": {},
   "outputs": [],
   "source": [
    "flipDF['CLEAN_2'] = flipDF['LEVEL_2']\n",
    "flipDF['CLEAN_2'].fillna(\n",
    "    flipDF['LEVEL_1'],\n",
    "    inplace=True,\n",
    ")\n",
    "flipDF['CLEAN_2'].fillna(\n",
    "    method='ffill',\n",
    "    inplace=True,\n",
    ")"
   ]
  },
  {
   "cell_type": "code",
   "execution_count": 1087,
   "metadata": {},
   "outputs": [],
   "source": [
    "flipDF['CLEAN_1'] = flipDF['LEVEL_1']\n",
    "flipDF['CLEAN_1'].fillna(\n",
    "    method='ffill',\n",
    "    inplace=True,\n",
    ")\n",
    "flipDF['CLEAN_0'] = flipDF['LEVEL_0']\n",
    "flipDF['CLEAN_0'].fillna(\n",
    "    method='ffill',\n",
    "    inplace=True,\n",
    ")"
   ]
  },
  {
   "cell_type": "markdown",
   "metadata": {},
   "source": [
    "### More NaNs"
   ]
  },
  {
   "cell_type": "code",
   "execution_count": 1088,
   "metadata": {},
   "outputs": [],
   "source": [
    "flipDF['CLEAN_0'].fillna('(blank)', inplace=True)"
   ]
  },
  {
   "cell_type": "code",
   "execution_count": 1089,
   "metadata": {},
   "outputs": [],
   "source": [
    "flipDF['CLEAN_1'].fillna('(blank)', inplace=True)"
   ]
  },
  {
   "cell_type": "code",
   "execution_count": 1090,
   "metadata": {},
   "outputs": [],
   "source": [
    "flipDF['CLEAN_2'].fillna('(blank)', inplace=True)"
   ]
  },
  {
   "cell_type": "markdown",
   "metadata": {},
   "source": [
    "### Cleaning/Filling Data"
   ]
  },
  {
   "cell_type": "code",
   "execution_count": 1091,
   "metadata": {
    "scrolled": true
   },
   "outputs": [],
   "source": [
    "flipDF.drop(['TOTAL'], axis='columns', inplace=True)"
   ]
  },
  {
   "cell_type": "code",
   "execution_count": 1092,
   "metadata": {},
   "outputs": [],
   "source": [
    "# to lower case, strip out spaces, and delimit with undies\n",
    "for i in range(4):\n",
    "    flipDF['CLEAN_' + str(i)] = flipDF['CLEAN_' + str(i)].apply(\n",
    "        lambda x: '_'.join(x.lower().strip().split())\n",
    "    )"
   ]
  },
  {
   "cell_type": "code",
   "execution_count": 1093,
   "metadata": {},
   "outputs": [],
   "source": [
    "# fixing subaru\n",
    "flipDF['CLEAN_2'] = flipDF['CLEAN_2'].apply(\n",
    "    lambda x: x if 'subaru' not in x else 'subaru'\n",
    ")"
   ]
  },
  {
   "cell_type": "markdown",
   "metadata": {},
   "source": [
    "### Renaming PT Type"
   ]
  },
  {
   "cell_type": "code",
   "execution_count": 1094,
   "metadata": {},
   "outputs": [],
   "source": [
    "flipDF['CLEAN_0'] = flipDF['CLEAN_0'].apply(\n",
    "    lambda x: x\n",
    "            .replace('fuel_cell_vehicles', 'fcev')\n",
    "            .replace('plug-in_hybrids', 'phev')\n",
    "            .replace('hybrids', 'hev')\n",
    "            .replace('electric_vehicles', 'bev')\n",
    ")"
   ]
  },
  {
   "cell_type": "markdown",
   "metadata": {},
   "source": [
    "### CLEANING PHEV"
   ]
  },
  {
   "cell_type": "code",
   "execution_count": 1095,
   "metadata": {},
   "outputs": [],
   "source": [
    "flipDF.loc[\n",
    "    (flipDF['CLEAN_0'] == 'phev')\n",
    "    & (~flipDF['CLEAN_2'].isin(['non-fleet','fleet','total_us_(no_hawaii)','hawaii',]))\n",
    "    & (flipDF['CLEAN_2'] == 'total_us_prius_plug-in'),\n",
    "    'CLEAN_1'\n",
    "] = 'toyota'"
   ]
  },
  {
   "cell_type": "code",
   "execution_count": 1096,
   "metadata": {},
   "outputs": [],
   "source": [
    "flipDF.loc[\n",
    "    (flipDF['CLEAN_0'] == 'phev')\n",
    "    & (~flipDF['CLEAN_2'].isin(['non-fleet','fleet','total_us_(no_hawaii)','hawaii',]))\n",
    "    & (flipDF['CLEAN_2'] != 'total_us_prius_plug-in')\n",
    "    & (\n",
    "        (~flipDF['CLEAN_2'].str.contains('sales'))\n",
    "        & (~flipDF['CLEAN_2'].str.contains('share'))\n",
    "    ),\n",
    "    'CLEAN_1'\n",
    "] = 'competitor'"
   ]
  },
  {
   "cell_type": "markdown",
   "metadata": {},
   "source": [
    "### CLEANING BEV"
   ]
  },
  {
   "cell_type": "code",
   "execution_count": 1097,
   "metadata": {},
   "outputs": [],
   "source": [
    "flipDF.loc[\n",
    "    (flipDF['CLEAN_0'] == 'bev')\n",
    "    & (flipDF['CLEAN_2'] == 'toyota'),\n",
    "    'CLEAN_1'\n",
    "] = 'toyota'"
   ]
  },
  {
   "cell_type": "code",
   "execution_count": 1098,
   "metadata": {},
   "outputs": [],
   "source": [
    "flipDF.loc[\n",
    "    (flipDF['CLEAN_0'] == 'bev')\n",
    "    & (flipDF['CLEAN_2'] != 'toyota')\n",
    "    & (flipDF['LEVEL_1'].isna()),\n",
    "    'CLEAN_1',\n",
    "] = 'competitor'"
   ]
  },
  {
   "cell_type": "markdown",
   "metadata": {},
   "source": [
    "### Renaming toyota_/_lexus"
   ]
  },
  {
   "cell_type": "code",
   "execution_count": 1099,
   "metadata": {},
   "outputs": [],
   "source": [
    "flipDF['CLEAN_1'] = flipDF['CLEAN_1'].apply(\n",
    "    lambda x: x if x != 'toyota_/_lexus' else 'toyota'\n",
    ")"
   ]
  },
  {
   "cell_type": "code",
   "execution_count": 1100,
   "metadata": {
    "scrolled": true
   },
   "outputs": [],
   "source": [
    "# fcv toyota is on level 1, nameplate on 3\n",
    "# hybrid toyota is on level 3\n",
    "# phev toyota is on level 2\n",
    "# phev only has 3 levels; toyota on 2, and rav4 ev on 3"
   ]
  },
  {
   "cell_type": "markdown",
   "metadata": {},
   "source": [
    "# 5 DFs"
   ]
  },
  {
   "cell_type": "code",
   "execution_count": 1101,
   "metadata": {},
   "outputs": [],
   "source": [
    "fcev = flipDF[\n",
    "    (flipDF['CLEAN_0'] == 'fcev')\n",
    "    & (\n",
    "        # filtering out anything but models\n",
    "        (flipDF['CLEAN_1'] == 'toyota')\n",
    "        | (flipDF['CLEAN_1'] == 'competition')\n",
    "    )\n",
    "    & (\n",
    "        (flipDF['CLEAN_3'] == 'total_us')\n",
    "        | (flipDF['CLEAN_2'] != 'mirai')\n",
    "    )\n",
    "].copy()"
   ]
  },
  {
   "cell_type": "code",
   "execution_count": 1102,
   "metadata": {
    "scrolled": true
   },
   "outputs": [],
   "source": [
    "fcev.drop(['LEVEL_0', 'LEVEL_1', 'LEVEL_2', 'LEVEL_3'], axis=1, inplace=True)"
   ]
  },
  {
   "cell_type": "code",
   "execution_count": 1103,
   "metadata": {},
   "outputs": [],
   "source": [
    "fcev.rename(columns={\n",
    "    'CLEAN_0': 'PT_TYPE',\n",
    "    'CLEAN_1': 'TOYO/COMP',\n",
    "    'CLEAN_2': 'BRAND',\n",
    "    'CLEAN_3': 'NAMEPLATE',\n",
    "    },\n",
    "    inplace=True,\n",
    ")"
   ]
  },
  {
   "cell_type": "code",
   "execution_count": 1104,
   "metadata": {},
   "outputs": [],
   "source": [
    "hev = flipDF[\n",
    "    (flipDF['CLEAN_0'] == 'hev')\n",
    "    & (\n",
    "        (flipDF['CLEAN_1'] == 'toyota')\n",
    "        | (flipDF['CLEAN_1'] == 'competition')\n",
    "    )\n",
    "    & (\n",
    "        (flipDF['CLEAN_3'].str.contains('total_us'))\n",
    "        & (~flipDF['CLEAN_3'].str.contains('hawaii'))\n",
    "        & (flipDF['CLEAN_3'] != 'total_us_prius_family')\n",
    "        | (flipDF['CLEAN_1'] != 'toyota')\n",
    "    )\n",
    "].copy()"
   ]
  },
  {
   "cell_type": "code",
   "execution_count": 1105,
   "metadata": {
    "scrolled": true
   },
   "outputs": [],
   "source": [
    "hev.drop(['LEVEL_0', 'LEVEL_1', 'LEVEL_2', 'LEVEL_3'], axis=1, inplace=True)"
   ]
  },
  {
   "cell_type": "code",
   "execution_count": 1106,
   "metadata": {},
   "outputs": [],
   "source": [
    "hev.rename(columns={\n",
    "    'CLEAN_0': 'PT_TYPE',\n",
    "    'CLEAN_1': 'TOYO/COMP',\n",
    "    'CLEAN_2': 'BRAND',\n",
    "    'CLEAN_3': 'NAMEPLATE',\n",
    "    },\n",
    "    inplace=True,\n",
    ")"
   ]
  },
  {
   "cell_type": "code",
   "execution_count": 1107,
   "metadata": {},
   "outputs": [],
   "source": [
    "phev = flipDF[\n",
    "    (flipDF['CLEAN_0'] == 'phev')\n",
    "    & (\n",
    "        (flipDF['CLEAN_1'] == 'toyota')\n",
    "        | (flipDF['CLEAN_1'] == 'competitor')\n",
    "    )\n",
    "].copy()"
   ]
  },
  {
   "cell_type": "code",
   "execution_count": 1108,
   "metadata": {
    "scrolled": true
   },
   "outputs": [],
   "source": [
    "phev.drop(['LEVEL_0', 'LEVEL_1', 'LEVEL_2', 'LEVEL_3'], axis=1, inplace=True)"
   ]
  },
  {
   "cell_type": "code",
   "execution_count": 1109,
   "metadata": {},
   "outputs": [],
   "source": [
    "phev.rename(columns={\n",
    "    'CLEAN_0': 'PT_TYPE',\n",
    "    'CLEAN_1': 'TOYO/COMP',\n",
    "    'CLEAN_2': 'BRAND',\n",
    "    'CLEAN_3': 'NAMEPLATE',\n",
    "    },\n",
    "    inplace=True,\n",
    ")"
   ]
  },
  {
   "cell_type": "code",
   "execution_count": 1110,
   "metadata": {},
   "outputs": [],
   "source": [
    "bev = flipDF[\n",
    "    (flipDF['CLEAN_0'] == 'bev')\n",
    "    & (\n",
    "        (flipDF['CLEAN_1'] == 'toyota')\n",
    "        | (flipDF['CLEAN_1'] == 'competitor')\n",
    "    )\n",
    "].copy()"
   ]
  },
  {
   "cell_type": "code",
   "execution_count": 1111,
   "metadata": {},
   "outputs": [],
   "source": [
    "bev.drop(['LEVEL_0', 'LEVEL_1', 'LEVEL_2', 'LEVEL_3'], axis=1, inplace=True)"
   ]
  },
  {
   "cell_type": "code",
   "execution_count": 1112,
   "metadata": {},
   "outputs": [],
   "source": [
    "bev.rename(columns={\n",
    "    'CLEAN_0': 'PT_TYPE',\n",
    "    'CLEAN_1': 'TOYO/COMP',\n",
    "    'CLEAN_2': 'BRAND',\n",
    "    'CLEAN_3': 'NAMEPLATE',\n",
    "    },\n",
    "    inplace=True,\n",
    ")"
   ]
  },
  {
   "cell_type": "code",
   "execution_count": 1113,
   "metadata": {
    "scrolled": true
   },
   "outputs": [],
   "source": [
    "sales = flipDF[\n",
    "    (~flipDF['CLEAN_3'].str.contains('cumulative'))\n",
    "    & (flipDF['CLEAN_3'].str.contains('sales'))\n",
    "    & (~flipDF['CLEAN_3'].str.contains('share'))\n",
    "    & (\n",
    "        (~flipDF['LEVEL_1'].isna())\n",
    "        | (flipDF['CLEAN_2'] == '(blank)')\n",
    "    )\n",
    "].copy()"
   ]
  },
  {
   "cell_type": "code",
   "execution_count": 1114,
   "metadata": {},
   "outputs": [],
   "source": [
    "sales.drop(\n",
    "    ['LEVEL_0',\n",
    "     'LEVEL_1',\n",
    "     'LEVEL_2',\n",
    "     'LEVEL_3',\n",
    "     'CLEAN_0',\n",
    "     'CLEAN_1',\n",
    "     'CLEAN_2'],\n",
    "    axis=1,\n",
    "    inplace=True,\n",
    ")"
   ]
  },
  {
   "cell_type": "code",
   "execution_count": 1115,
   "metadata": {},
   "outputs": [],
   "source": [
    "sales.rename(columns={'CLEAN_3': 'SALES'}, inplace=True)"
   ]
  },
  {
   "cell_type": "code",
   "execution_count": 1116,
   "metadata": {},
   "outputs": [],
   "source": [
    "# reordering columns\n",
    "sales.set_index(\n",
    "    sales['SALES'].apply(lambda x: x.replace('_', ' ').upper()),\n",
    "    inplace=True\n",
    ")"
   ]
  },
  {
   "cell_type": "code",
   "execution_count": 1117,
   "metadata": {},
   "outputs": [],
   "source": [
    "sales.drop('SALES', axis=1,inplace=True)"
   ]
  },
  {
   "cell_type": "code",
   "execution_count": 1118,
   "metadata": {},
   "outputs": [],
   "source": [
    "sales.drop(\n",
    "    'ALT-FUEL VEHICLE SALES',\n",
    "    axis='index',\n",
    "    inplace=True,\n",
    ")"
   ]
  },
  {
   "cell_type": "code",
   "execution_count": 1119,
   "metadata": {},
   "outputs": [],
   "source": [
    "sales.fillna(0, inplace=True)"
   ]
  },
  {
   "cell_type": "markdown",
   "metadata": {},
   "source": [
    "# Add Percentages to OEM DFs"
   ]
  },
  {
   "cell_type": "code",
   "execution_count": 1120,
   "metadata": {},
   "outputs": [],
   "source": [
    "def group_brands(pt_type_frame: pdDataFrame) -> pdDataFrame:\n",
    "    ''''''\n",
    "    oreo = (\n",
    "        pt_type_frame\n",
    "        .set_index(['TOYO/COMP', 'BRAND'])\n",
    "        .loc[:, [c for c in hev.columns if 'CY ' in c and int(c[3:]) > 2009]]\n",
    "    ).copy().reset_index()\n",
    "    oreo['OEM'] = (\n",
    "        oreo['TOYO/COMP'] + '|' + oreo['BRAND']\n",
    "    ).apply(lambda x: 'toyota' if 'toyota|' in x else x.split('|')[-1])\n",
    "    \n",
    "    oreo.drop(['BRAND', 'TOYO/COMP'], axis=1, inplace=True)\n",
    "    \n",
    "    return oreo.groupby(oreo['OEM'].apply(\n",
    "        lambda x: x.replace('_', ' ').upper()\n",
    "    )).sum().drop(['OEM'], axis=1).copy()\n"
   ]
  },
  {
   "cell_type": "code",
   "execution_count": 1121,
   "metadata": {},
   "outputs": [
    {
     "data": {
      "text/html": [
       "<div>\n",
       "<style scoped>\n",
       "    .dataframe tbody tr th:only-of-type {\n",
       "        vertical-align: middle;\n",
       "    }\n",
       "\n",
       "    .dataframe tbody tr th {\n",
       "        vertical-align: top;\n",
       "    }\n",
       "\n",
       "    .dataframe thead th {\n",
       "        text-align: right;\n",
       "    }\n",
       "</style>\n",
       "<table border=\"1\" class=\"dataframe\">\n",
       "  <thead>\n",
       "    <tr style=\"text-align: right;\">\n",
       "      <th></th>\n",
       "      <th>CY 2010</th>\n",
       "      <th>CY 2011</th>\n",
       "      <th>CY 2012</th>\n",
       "      <th>CY 2013</th>\n",
       "      <th>CY 2014</th>\n",
       "      <th>CY 2015</th>\n",
       "      <th>CY 2016</th>\n",
       "      <th>CY 2017</th>\n",
       "      <th>CY 2018</th>\n",
       "      <th>CY 2019</th>\n",
       "      <th>CY 2020</th>\n",
       "    </tr>\n",
       "    <tr>\n",
       "      <th>OEM</th>\n",
       "      <th></th>\n",
       "      <th></th>\n",
       "      <th></th>\n",
       "      <th></th>\n",
       "      <th></th>\n",
       "      <th></th>\n",
       "      <th></th>\n",
       "      <th></th>\n",
       "      <th></th>\n",
       "      <th></th>\n",
       "      <th></th>\n",
       "    </tr>\n",
       "  </thead>\n",
       "  <tbody>\n",
       "    <tr>\n",
       "      <th>BMW</th>\n",
       "      <td>248.0</td>\n",
       "      <td>43.0</td>\n",
       "      <td>406.0</td>\n",
       "      <td>905.0</td>\n",
       "      <td>151.0</td>\n",
       "      <td>30.0</td>\n",
       "      <td>0.0</td>\n",
       "      <td>0.0</td>\n",
       "      <td>0.0</td>\n",
       "      <td>0.0</td>\n",
       "      <td>0.0</td>\n",
       "    </tr>\n",
       "    <tr>\n",
       "      <th>FIAT CHRYSLER</th>\n",
       "      <td>0.0</td>\n",
       "      <td>0.0</td>\n",
       "      <td>0.0</td>\n",
       "      <td>0.0</td>\n",
       "      <td>0.0</td>\n",
       "      <td>0.0</td>\n",
       "      <td>0.0</td>\n",
       "      <td>0.0</td>\n",
       "      <td>0.0</td>\n",
       "      <td>0.0</td>\n",
       "      <td>0.0</td>\n",
       "    </tr>\n",
       "    <tr>\n",
       "      <th>FORD</th>\n",
       "      <td>35496.0</td>\n",
       "      <td>27114.0</td>\n",
       "      <td>32543.0</td>\n",
       "      <td>78284.0</td>\n",
       "      <td>64620.0</td>\n",
       "      <td>47261.0</td>\n",
       "      <td>60785.0</td>\n",
       "      <td>90191.0</td>\n",
       "      <td>70409.0</td>\n",
       "      <td>57137.0</td>\n",
       "      <td>9015.0</td>\n",
       "    </tr>\n",
       "    <tr>\n",
       "      <th>GM</th>\n",
       "      <td>6705.0</td>\n",
       "      <td>5134.0</td>\n",
       "      <td>33979.0</td>\n",
       "      <td>25066.0</td>\n",
       "      <td>9765.0</td>\n",
       "      <td>4588.0</td>\n",
       "      <td>5182.0</td>\n",
       "      <td>11832.0</td>\n",
       "      <td>8901.0</td>\n",
       "      <td>2477.0</td>\n",
       "      <td>47.0</td>\n",
       "    </tr>\n",
       "    <tr>\n",
       "      <th>HONDA</th>\n",
       "      <td>33547.0</td>\n",
       "      <td>31582.0</td>\n",
       "      <td>18166.0</td>\n",
       "      <td>19165.0</td>\n",
       "      <td>26982.0</td>\n",
       "      <td>20914.0</td>\n",
       "      <td>12777.0</td>\n",
       "      <td>24878.0</td>\n",
       "      <td>32534.0</td>\n",
       "      <td>50083.0</td>\n",
       "      <td>6266.0</td>\n",
       "    </tr>\n",
       "    <tr>\n",
       "      <th>HYUNDAI</th>\n",
       "      <td>0.0</td>\n",
       "      <td>25918.0</td>\n",
       "      <td>56366.0</td>\n",
       "      <td>41845.0</td>\n",
       "      <td>34828.0</td>\n",
       "      <td>31400.0</td>\n",
       "      <td>25103.0</td>\n",
       "      <td>55604.0</td>\n",
       "      <td>50026.0</td>\n",
       "      <td>37164.0</td>\n",
       "      <td>4030.0</td>\n",
       "    </tr>\n",
       "    <tr>\n",
       "      <th>MB</th>\n",
       "      <td>1721.0</td>\n",
       "      <td>310.0</td>\n",
       "      <td>141.0</td>\n",
       "      <td>357.0</td>\n",
       "      <td>188.0</td>\n",
       "      <td>64.0</td>\n",
       "      <td>9.0</td>\n",
       "      <td>7.0</td>\n",
       "      <td>0.0</td>\n",
       "      <td>0.0</td>\n",
       "      <td>0.0</td>\n",
       "    </tr>\n",
       "    <tr>\n",
       "      <th>NISSAN</th>\n",
       "      <td>6710.0</td>\n",
       "      <td>3614.0</td>\n",
       "      <td>794.0</td>\n",
       "      <td>1792.0</td>\n",
       "      <td>7794.0</td>\n",
       "      <td>8789.0</td>\n",
       "      <td>4046.0</td>\n",
       "      <td>1615.0</td>\n",
       "      <td>2734.0</td>\n",
       "      <td>3312.0</td>\n",
       "      <td>449.0</td>\n",
       "    </tr>\n",
       "    <tr>\n",
       "      <th>SUBARU</th>\n",
       "      <td>0.0</td>\n",
       "      <td>0.0</td>\n",
       "      <td>0.0</td>\n",
       "      <td>0.0</td>\n",
       "      <td>7926.0</td>\n",
       "      <td>5589.0</td>\n",
       "      <td>2173.0</td>\n",
       "      <td>43.0</td>\n",
       "      <td>0.0</td>\n",
       "      <td>0.0</td>\n",
       "      <td>0.0</td>\n",
       "    </tr>\n",
       "    <tr>\n",
       "      <th>TOYOTA</th>\n",
       "      <td>189187.0</td>\n",
       "      <td>178560.0</td>\n",
       "      <td>314472.0</td>\n",
       "      <td>331708.0</td>\n",
       "      <td>297115.0</td>\n",
       "      <td>266805.0</td>\n",
       "      <td>243959.0</td>\n",
       "      <td>205049.0</td>\n",
       "      <td>184412.0</td>\n",
       "      <td>251320.0</td>\n",
       "      <td>40015.0</td>\n",
       "    </tr>\n",
       "    <tr>\n",
       "      <th>VW</th>\n",
       "      <td>361.0</td>\n",
       "      <td>1961.0</td>\n",
       "      <td>1865.0</td>\n",
       "      <td>7242.0</td>\n",
       "      <td>2892.0</td>\n",
       "      <td>853.0</td>\n",
       "      <td>727.0</td>\n",
       "      <td>70.0</td>\n",
       "      <td>1.0</td>\n",
       "      <td>0.0</td>\n",
       "      <td>0.0</td>\n",
       "    </tr>\n",
       "  </tbody>\n",
       "</table>\n",
       "</div>"
      ],
      "text/plain": [
       "                CY 2010   CY 2011   CY 2012   CY 2013   CY 2014   CY 2015  \\\n",
       "OEM                                                                         \n",
       "BMW               248.0      43.0     406.0     905.0     151.0      30.0   \n",
       "FIAT CHRYSLER       0.0       0.0       0.0       0.0       0.0       0.0   \n",
       "FORD            35496.0   27114.0   32543.0   78284.0   64620.0   47261.0   \n",
       "GM               6705.0    5134.0   33979.0   25066.0    9765.0    4588.0   \n",
       "HONDA           33547.0   31582.0   18166.0   19165.0   26982.0   20914.0   \n",
       "HYUNDAI             0.0   25918.0   56366.0   41845.0   34828.0   31400.0   \n",
       "MB               1721.0     310.0     141.0     357.0     188.0      64.0   \n",
       "NISSAN           6710.0    3614.0     794.0    1792.0    7794.0    8789.0   \n",
       "SUBARU              0.0       0.0       0.0       0.0    7926.0    5589.0   \n",
       "TOYOTA         189187.0  178560.0  314472.0  331708.0  297115.0  266805.0   \n",
       "VW                361.0    1961.0    1865.0    7242.0    2892.0     853.0   \n",
       "\n",
       "                CY 2016   CY 2017   CY 2018   CY 2019  CY 2020  \n",
       "OEM                                                             \n",
       "BMW                 0.0       0.0       0.0       0.0      0.0  \n",
       "FIAT CHRYSLER       0.0       0.0       0.0       0.0      0.0  \n",
       "FORD            60785.0   90191.0   70409.0   57137.0   9015.0  \n",
       "GM               5182.0   11832.0    8901.0    2477.0     47.0  \n",
       "HONDA           12777.0   24878.0   32534.0   50083.0   6266.0  \n",
       "HYUNDAI         25103.0   55604.0   50026.0   37164.0   4030.0  \n",
       "MB                  9.0       7.0       0.0       0.0      0.0  \n",
       "NISSAN           4046.0    1615.0    2734.0    3312.0    449.0  \n",
       "SUBARU           2173.0      43.0       0.0       0.0      0.0  \n",
       "TOYOTA         243959.0  205049.0  184412.0  251320.0  40015.0  \n",
       "VW                727.0      70.0       1.0       0.0      0.0  "
      ]
     },
     "execution_count": 1121,
     "metadata": {},
     "output_type": "execute_result"
    }
   ],
   "source": [
    "group_brands(hev)"
   ]
  },
  {
   "cell_type": "code",
   "execution_count": 1122,
   "metadata": {},
   "outputs": [],
   "source": [
    "def add_p(grouped_oems: pdDataFrame, pt_type: str) -> pdDataFrame:\n",
    "    ''''''\n",
    "    pt_type = pt_type.upper()\n",
    "    for col in grouped_oems:\n",
    "        grouped_oems[col + ' US ' + pt_type + ' SALES %'] = (\n",
    "            (grouped_oems[col] / grouped_oems[col].sum()) * 100\n",
    "        )\n",
    "\n",
    "    return grouped_oems"
   ]
  },
  {
   "cell_type": "code",
   "execution_count": 1123,
   "metadata": {},
   "outputs": [],
   "source": [
    "def add_sales_p(sales_frame: pdDataFrame) -> pdDataFrame:\n",
    "    oreo = sales_frame.loc[:, [c for c in sales_frame.columns if int(c[3:]) > 2009]]\n",
    "    for col in oreo:\n",
    "        oreo[col + ' US MARKET SHARE'] = (\n",
    "            (oreo.loc[[i for i in oreo.index if 'INDUSTRY' not in i],\n",
    "            col] / oreo.loc['INDUSTRY SALES', col]) * 100\n",
    "        )\n",
    "    return oreo"
   ]
  },
  {
   "cell_type": "code",
   "execution_count": 1124,
   "metadata": {},
   "outputs": [],
   "source": [
    "def gen_plots(p_frame: pdDataFrame) -> Dict[str, goPie]:\n",
    "    '''Doesn't work. ''' \n",
    "    p_series = {}\n",
    "    labels = tuple(\n",
    "        map(\n",
    "            lambda x: x.upper().replace('_', ' '),\n",
    "                       p_frame.index.to_list()\n",
    "        )\n",
    "    )\n",
    "    \n",
    "    for p in [p for p in p_frame.columns if '%' in p]:\n",
    "        p_series.update(\n",
    "            {\n",
    "                ' '.join(p.split()[:2]): \n",
    "                go.Pie(labels=labels, values=p_frame[p]),\n",
    "            }\n",
    "        )"
   ]
  },
  {
   "cell_type": "markdown",
   "metadata": {},
   "source": [
    "# to Excel"
   ]
  },
  {
   "cell_type": "code",
   "execution_count": 1125,
   "metadata": {},
   "outputs": [
    {
     "name": "stdout",
     "output_type": "stream",
     "text": [
      "Sheet named 'EVC-AS Charting' already present in workbook\n"
     ]
    }
   ],
   "source": [
    "try:\n",
    "    tots.book.sheets.add('EVC-AS Charting')\n",
    "except ValueError as e:\n",
    "    print(e)\n",
    "    pass"
   ]
  },
  {
   "cell_type": "code",
   "execution_count": 1126,
   "metadata": {},
   "outputs": [],
   "source": [
    "newAFV = redefine_sheets()"
   ]
  },
  {
   "cell_type": "code",
   "execution_count": 1127,
   "metadata": {},
   "outputs": [],
   "source": [
    "evc = newAFV['EVC-AS Charting']"
   ]
  },
  {
   "cell_type": "code",
   "execution_count": 1128,
   "metadata": {},
   "outputs": [],
   "source": [
    "evc.api.Tab.Color = xw.constants.RgbColor.rgbDarkCyan"
   ]
  },
  {
   "cell_type": "code",
   "execution_count": 1129,
   "metadata": {},
   "outputs": [],
   "source": [
    "evc.activate()"
   ]
  },
  {
   "cell_type": "code",
   "execution_count": 1130,
   "metadata": {},
   "outputs": [],
   "source": [
    "evc.clear()"
   ]
  },
  {
   "cell_type": "code",
   "execution_count": 1131,
   "metadata": {},
   "outputs": [],
   "source": [
    "evc['C1'].value = add_sales_p(sales)"
   ]
  },
  {
   "cell_type": "code",
   "execution_count": 1132,
   "metadata": {},
   "outputs": [],
   "source": [
    "def reoffset_2() -> xwRange:\n",
    "    return evc['C1048576'].end('up').offset(2, 0)"
   ]
  },
  {
   "cell_type": "code",
   "execution_count": 1133,
   "metadata": {},
   "outputs": [
    {
     "data": {
      "text/plain": [
       "'bev'"
      ]
     },
     "execution_count": 1133,
     "metadata": {},
     "output_type": "execute_result"
    }
   ],
   "source": [
    "bev.iloc[0, -1]"
   ]
  },
  {
   "cell_type": "code",
   "execution_count": null,
   "metadata": {},
   "outputs": [],
   "source": []
  },
  {
   "cell_type": "code",
   "execution_count": 1134,
   "metadata": {},
   "outputs": [
    {
     "data": {
      "text/html": [
       "<div>\n",
       "<style scoped>\n",
       "    .dataframe tbody tr th:only-of-type {\n",
       "        vertical-align: middle;\n",
       "    }\n",
       "\n",
       "    .dataframe tbody tr th {\n",
       "        vertical-align: top;\n",
       "    }\n",
       "\n",
       "    .dataframe thead th {\n",
       "        text-align: right;\n",
       "    }\n",
       "</style>\n",
       "<table border=\"1\" class=\"dataframe\">\n",
       "  <thead>\n",
       "    <tr style=\"text-align: right;\">\n",
       "      <th></th>\n",
       "      <th>CY 2010</th>\n",
       "      <th>CY 2011</th>\n",
       "      <th>CY 2012</th>\n",
       "      <th>CY 2013</th>\n",
       "      <th>CY 2014</th>\n",
       "      <th>CY 2015</th>\n",
       "      <th>CY 2016</th>\n",
       "      <th>CY 2017</th>\n",
       "      <th>CY 2018</th>\n",
       "      <th>CY 2019</th>\n",
       "      <th>...</th>\n",
       "      <th>CY 2011 US HEV SALES %</th>\n",
       "      <th>CY 2012 US HEV SALES %</th>\n",
       "      <th>CY 2013 US HEV SALES %</th>\n",
       "      <th>CY 2014 US HEV SALES %</th>\n",
       "      <th>CY 2015 US HEV SALES %</th>\n",
       "      <th>CY 2016 US HEV SALES %</th>\n",
       "      <th>CY 2017 US HEV SALES %</th>\n",
       "      <th>CY 2018 US HEV SALES %</th>\n",
       "      <th>CY 2019 US HEV SALES %</th>\n",
       "      <th>CY 2020 US HEV SALES %</th>\n",
       "    </tr>\n",
       "    <tr>\n",
       "      <th>OEM</th>\n",
       "      <th></th>\n",
       "      <th></th>\n",
       "      <th></th>\n",
       "      <th></th>\n",
       "      <th></th>\n",
       "      <th></th>\n",
       "      <th></th>\n",
       "      <th></th>\n",
       "      <th></th>\n",
       "      <th></th>\n",
       "      <th></th>\n",
       "      <th></th>\n",
       "      <th></th>\n",
       "      <th></th>\n",
       "      <th></th>\n",
       "      <th></th>\n",
       "      <th></th>\n",
       "      <th></th>\n",
       "      <th></th>\n",
       "      <th></th>\n",
       "      <th></th>\n",
       "    </tr>\n",
       "  </thead>\n",
       "  <tbody>\n",
       "    <tr>\n",
       "      <th>BMW</th>\n",
       "      <td>248.0</td>\n",
       "      <td>43.0</td>\n",
       "      <td>406.0</td>\n",
       "      <td>905.0</td>\n",
       "      <td>151.0</td>\n",
       "      <td>30.0</td>\n",
       "      <td>0.0</td>\n",
       "      <td>0.0</td>\n",
       "      <td>0.0</td>\n",
       "      <td>0.0</td>\n",
       "      <td>...</td>\n",
       "      <td>0.015680</td>\n",
       "      <td>0.088505</td>\n",
       "      <td>0.178725</td>\n",
       "      <td>0.033388</td>\n",
       "      <td>0.007766</td>\n",
       "      <td>0.000000</td>\n",
       "      <td>0.000000</td>\n",
       "      <td>0.000000</td>\n",
       "      <td>0.000000</td>\n",
       "      <td>0.000000</td>\n",
       "    </tr>\n",
       "    <tr>\n",
       "      <th>FIAT CHRYSLER</th>\n",
       "      <td>0.0</td>\n",
       "      <td>0.0</td>\n",
       "      <td>0.0</td>\n",
       "      <td>0.0</td>\n",
       "      <td>0.0</td>\n",
       "      <td>0.0</td>\n",
       "      <td>0.0</td>\n",
       "      <td>0.0</td>\n",
       "      <td>0.0</td>\n",
       "      <td>0.0</td>\n",
       "      <td>...</td>\n",
       "      <td>0.000000</td>\n",
       "      <td>0.000000</td>\n",
       "      <td>0.000000</td>\n",
       "      <td>0.000000</td>\n",
       "      <td>0.000000</td>\n",
       "      <td>0.000000</td>\n",
       "      <td>0.000000</td>\n",
       "      <td>0.000000</td>\n",
       "      <td>0.000000</td>\n",
       "      <td>0.000000</td>\n",
       "    </tr>\n",
       "    <tr>\n",
       "      <th>FORD</th>\n",
       "      <td>35496.0</td>\n",
       "      <td>27114.0</td>\n",
       "      <td>32543.0</td>\n",
       "      <td>78284.0</td>\n",
       "      <td>64620.0</td>\n",
       "      <td>47261.0</td>\n",
       "      <td>60785.0</td>\n",
       "      <td>90191.0</td>\n",
       "      <td>70409.0</td>\n",
       "      <td>57137.0</td>\n",
       "      <td>...</td>\n",
       "      <td>9.887105</td>\n",
       "      <td>7.094120</td>\n",
       "      <td>15.460025</td>\n",
       "      <td>14.288210</td>\n",
       "      <td>12.234496</td>\n",
       "      <td>17.134071</td>\n",
       "      <td>23.168135</td>\n",
       "      <td>20.173516</td>\n",
       "      <td>14.231132</td>\n",
       "      <td>15.069707</td>\n",
       "    </tr>\n",
       "    <tr>\n",
       "      <th>GM</th>\n",
       "      <td>6705.0</td>\n",
       "      <td>5134.0</td>\n",
       "      <td>33979.0</td>\n",
       "      <td>25066.0</td>\n",
       "      <td>9765.0</td>\n",
       "      <td>4588.0</td>\n",
       "      <td>5182.0</td>\n",
       "      <td>11832.0</td>\n",
       "      <td>8901.0</td>\n",
       "      <td>2477.0</td>\n",
       "      <td>...</td>\n",
       "      <td>1.872110</td>\n",
       "      <td>7.407157</td>\n",
       "      <td>4.950194</td>\n",
       "      <td>2.159151</td>\n",
       "      <td>1.187699</td>\n",
       "      <td>1.460702</td>\n",
       "      <td>3.039387</td>\n",
       "      <td>2.550306</td>\n",
       "      <td>0.616947</td>\n",
       "      <td>0.078566</td>\n",
       "    </tr>\n",
       "    <tr>\n",
       "      <th>HONDA</th>\n",
       "      <td>33547.0</td>\n",
       "      <td>31582.0</td>\n",
       "      <td>18166.0</td>\n",
       "      <td>19165.0</td>\n",
       "      <td>26982.0</td>\n",
       "      <td>20914.0</td>\n",
       "      <td>12777.0</td>\n",
       "      <td>24878.0</td>\n",
       "      <td>32534.0</td>\n",
       "      <td>50083.0</td>\n",
       "      <td>...</td>\n",
       "      <td>11.516358</td>\n",
       "      <td>3.960046</td>\n",
       "      <td>3.784827</td>\n",
       "      <td>5.966024</td>\n",
       "      <td>5.414025</td>\n",
       "      <td>3.601580</td>\n",
       "      <td>6.390625</td>\n",
       "      <td>9.321609</td>\n",
       "      <td>12.474190</td>\n",
       "      <td>10.474407</td>\n",
       "    </tr>\n",
       "    <tr>\n",
       "      <th>HYUNDAI</th>\n",
       "      <td>0.0</td>\n",
       "      <td>25918.0</td>\n",
       "      <td>56366.0</td>\n",
       "      <td>41845.0</td>\n",
       "      <td>34828.0</td>\n",
       "      <td>31400.0</td>\n",
       "      <td>25103.0</td>\n",
       "      <td>55604.0</td>\n",
       "      <td>50026.0</td>\n",
       "      <td>37164.0</td>\n",
       "      <td>...</td>\n",
       "      <td>9.450984</td>\n",
       "      <td>12.287349</td>\n",
       "      <td>8.263818</td>\n",
       "      <td>7.700863</td>\n",
       "      <td>8.128545</td>\n",
       "      <td>7.076031</td>\n",
       "      <td>14.283476</td>\n",
       "      <td>14.333399</td>\n",
       "      <td>9.256450</td>\n",
       "      <td>6.736652</td>\n",
       "    </tr>\n",
       "    <tr>\n",
       "      <th>MB</th>\n",
       "      <td>1721.0</td>\n",
       "      <td>310.0</td>\n",
       "      <td>141.0</td>\n",
       "      <td>357.0</td>\n",
       "      <td>188.0</td>\n",
       "      <td>64.0</td>\n",
       "      <td>9.0</td>\n",
       "      <td>7.0</td>\n",
       "      <td>0.0</td>\n",
       "      <td>0.0</td>\n",
       "      <td>...</td>\n",
       "      <td>0.113041</td>\n",
       "      <td>0.030737</td>\n",
       "      <td>0.070503</td>\n",
       "      <td>0.041569</td>\n",
       "      <td>0.016568</td>\n",
       "      <td>0.002537</td>\n",
       "      <td>0.001798</td>\n",
       "      <td>0.000000</td>\n",
       "      <td>0.000000</td>\n",
       "      <td>0.000000</td>\n",
       "    </tr>\n",
       "    <tr>\n",
       "      <th>NISSAN</th>\n",
       "      <td>6710.0</td>\n",
       "      <td>3614.0</td>\n",
       "      <td>794.0</td>\n",
       "      <td>1792.0</td>\n",
       "      <td>7794.0</td>\n",
       "      <td>8789.0</td>\n",
       "      <td>4046.0</td>\n",
       "      <td>1615.0</td>\n",
       "      <td>2734.0</td>\n",
       "      <td>3312.0</td>\n",
       "      <td>...</td>\n",
       "      <td>1.317843</td>\n",
       "      <td>0.173086</td>\n",
       "      <td>0.353896</td>\n",
       "      <td>1.723341</td>\n",
       "      <td>2.275216</td>\n",
       "      <td>1.140486</td>\n",
       "      <td>0.414859</td>\n",
       "      <td>0.783343</td>\n",
       "      <td>0.824921</td>\n",
       "      <td>0.750560</td>\n",
       "    </tr>\n",
       "    <tr>\n",
       "      <th>SUBARU</th>\n",
       "      <td>0.0</td>\n",
       "      <td>0.0</td>\n",
       "      <td>0.0</td>\n",
       "      <td>0.0</td>\n",
       "      <td>7926.0</td>\n",
       "      <td>5589.0</td>\n",
       "      <td>2173.0</td>\n",
       "      <td>43.0</td>\n",
       "      <td>0.0</td>\n",
       "      <td>0.0</td>\n",
       "      <td>...</td>\n",
       "      <td>0.000000</td>\n",
       "      <td>0.000000</td>\n",
       "      <td>0.000000</td>\n",
       "      <td>1.752528</td>\n",
       "      <td>1.446829</td>\n",
       "      <td>0.612525</td>\n",
       "      <td>0.011046</td>\n",
       "      <td>0.000000</td>\n",
       "      <td>0.000000</td>\n",
       "      <td>0.000000</td>\n",
       "    </tr>\n",
       "    <tr>\n",
       "      <th>TOYOTA</th>\n",
       "      <td>189187.0</td>\n",
       "      <td>178560.0</td>\n",
       "      <td>314472.0</td>\n",
       "      <td>331708.0</td>\n",
       "      <td>297115.0</td>\n",
       "      <td>266805.0</td>\n",
       "      <td>243959.0</td>\n",
       "      <td>205049.0</td>\n",
       "      <td>184412.0</td>\n",
       "      <td>251320.0</td>\n",
       "      <td>...</td>\n",
       "      <td>65.111802</td>\n",
       "      <td>68.552445</td>\n",
       "      <td>65.507817</td>\n",
       "      <td>65.695472</td>\n",
       "      <td>69.068039</td>\n",
       "      <td>68.767142</td>\n",
       "      <td>52.672693</td>\n",
       "      <td>52.837541</td>\n",
       "      <td>62.596359</td>\n",
       "      <td>66.890107</td>\n",
       "    </tr>\n",
       "    <tr>\n",
       "      <th>VW</th>\n",
       "      <td>361.0</td>\n",
       "      <td>1961.0</td>\n",
       "      <td>1865.0</td>\n",
       "      <td>7242.0</td>\n",
       "      <td>2892.0</td>\n",
       "      <td>853.0</td>\n",
       "      <td>727.0</td>\n",
       "      <td>70.0</td>\n",
       "      <td>1.0</td>\n",
       "      <td>0.0</td>\n",
       "      <td>...</td>\n",
       "      <td>0.715078</td>\n",
       "      <td>0.406555</td>\n",
       "      <td>1.430196</td>\n",
       "      <td>0.639454</td>\n",
       "      <td>0.220817</td>\n",
       "      <td>0.204927</td>\n",
       "      <td>0.017981</td>\n",
       "      <td>0.000287</td>\n",
       "      <td>0.000000</td>\n",
       "      <td>0.000000</td>\n",
       "    </tr>\n",
       "  </tbody>\n",
       "</table>\n",
       "<p>11 rows × 22 columns</p>\n",
       "</div>"
      ],
      "text/plain": [
       "                CY 2010   CY 2011   CY 2012   CY 2013   CY 2014   CY 2015  \\\n",
       "OEM                                                                         \n",
       "BMW               248.0      43.0     406.0     905.0     151.0      30.0   \n",
       "FIAT CHRYSLER       0.0       0.0       0.0       0.0       0.0       0.0   \n",
       "FORD            35496.0   27114.0   32543.0   78284.0   64620.0   47261.0   \n",
       "GM               6705.0    5134.0   33979.0   25066.0    9765.0    4588.0   \n",
       "HONDA           33547.0   31582.0   18166.0   19165.0   26982.0   20914.0   \n",
       "HYUNDAI             0.0   25918.0   56366.0   41845.0   34828.0   31400.0   \n",
       "MB               1721.0     310.0     141.0     357.0     188.0      64.0   \n",
       "NISSAN           6710.0    3614.0     794.0    1792.0    7794.0    8789.0   \n",
       "SUBARU              0.0       0.0       0.0       0.0    7926.0    5589.0   \n",
       "TOYOTA         189187.0  178560.0  314472.0  331708.0  297115.0  266805.0   \n",
       "VW                361.0    1961.0    1865.0    7242.0    2892.0     853.0   \n",
       "\n",
       "                CY 2016   CY 2017   CY 2018   CY 2019  ...  \\\n",
       "OEM                                                    ...   \n",
       "BMW                 0.0       0.0       0.0       0.0  ...   \n",
       "FIAT CHRYSLER       0.0       0.0       0.0       0.0  ...   \n",
       "FORD            60785.0   90191.0   70409.0   57137.0  ...   \n",
       "GM               5182.0   11832.0    8901.0    2477.0  ...   \n",
       "HONDA           12777.0   24878.0   32534.0   50083.0  ...   \n",
       "HYUNDAI         25103.0   55604.0   50026.0   37164.0  ...   \n",
       "MB                  9.0       7.0       0.0       0.0  ...   \n",
       "NISSAN           4046.0    1615.0    2734.0    3312.0  ...   \n",
       "SUBARU           2173.0      43.0       0.0       0.0  ...   \n",
       "TOYOTA         243959.0  205049.0  184412.0  251320.0  ...   \n",
       "VW                727.0      70.0       1.0       0.0  ...   \n",
       "\n",
       "               CY 2011 US HEV SALES %  CY 2012 US HEV SALES %  \\\n",
       "OEM                                                             \n",
       "BMW                          0.015680                0.088505   \n",
       "FIAT CHRYSLER                0.000000                0.000000   \n",
       "FORD                         9.887105                7.094120   \n",
       "GM                           1.872110                7.407157   \n",
       "HONDA                       11.516358                3.960046   \n",
       "HYUNDAI                      9.450984               12.287349   \n",
       "MB                           0.113041                0.030737   \n",
       "NISSAN                       1.317843                0.173086   \n",
       "SUBARU                       0.000000                0.000000   \n",
       "TOYOTA                      65.111802               68.552445   \n",
       "VW                           0.715078                0.406555   \n",
       "\n",
       "               CY 2013 US HEV SALES %  CY 2014 US HEV SALES %  \\\n",
       "OEM                                                             \n",
       "BMW                          0.178725                0.033388   \n",
       "FIAT CHRYSLER                0.000000                0.000000   \n",
       "FORD                        15.460025               14.288210   \n",
       "GM                           4.950194                2.159151   \n",
       "HONDA                        3.784827                5.966024   \n",
       "HYUNDAI                      8.263818                7.700863   \n",
       "MB                           0.070503                0.041569   \n",
       "NISSAN                       0.353896                1.723341   \n",
       "SUBARU                       0.000000                1.752528   \n",
       "TOYOTA                      65.507817               65.695472   \n",
       "VW                           1.430196                0.639454   \n",
       "\n",
       "               CY 2015 US HEV SALES %  CY 2016 US HEV SALES %  \\\n",
       "OEM                                                             \n",
       "BMW                          0.007766                0.000000   \n",
       "FIAT CHRYSLER                0.000000                0.000000   \n",
       "FORD                        12.234496               17.134071   \n",
       "GM                           1.187699                1.460702   \n",
       "HONDA                        5.414025                3.601580   \n",
       "HYUNDAI                      8.128545                7.076031   \n",
       "MB                           0.016568                0.002537   \n",
       "NISSAN                       2.275216                1.140486   \n",
       "SUBARU                       1.446829                0.612525   \n",
       "TOYOTA                      69.068039               68.767142   \n",
       "VW                           0.220817                0.204927   \n",
       "\n",
       "               CY 2017 US HEV SALES %  CY 2018 US HEV SALES %  \\\n",
       "OEM                                                             \n",
       "BMW                          0.000000                0.000000   \n",
       "FIAT CHRYSLER                0.000000                0.000000   \n",
       "FORD                        23.168135               20.173516   \n",
       "GM                           3.039387                2.550306   \n",
       "HONDA                        6.390625                9.321609   \n",
       "HYUNDAI                     14.283476               14.333399   \n",
       "MB                           0.001798                0.000000   \n",
       "NISSAN                       0.414859                0.783343   \n",
       "SUBARU                       0.011046                0.000000   \n",
       "TOYOTA                      52.672693               52.837541   \n",
       "VW                           0.017981                0.000287   \n",
       "\n",
       "               CY 2019 US HEV SALES %  CY 2020 US HEV SALES %  \n",
       "OEM                                                            \n",
       "BMW                          0.000000                0.000000  \n",
       "FIAT CHRYSLER                0.000000                0.000000  \n",
       "FORD                        14.231132               15.069707  \n",
       "GM                           0.616947                0.078566  \n",
       "HONDA                       12.474190               10.474407  \n",
       "HYUNDAI                      9.256450                6.736652  \n",
       "MB                           0.000000                0.000000  \n",
       "NISSAN                       0.824921                0.750560  \n",
       "SUBARU                       0.000000                0.000000  \n",
       "TOYOTA                      62.596359               66.890107  \n",
       "VW                           0.000000                0.000000  \n",
       "\n",
       "[11 rows x 22 columns]"
      ]
     },
     "execution_count": 1134,
     "metadata": {},
     "output_type": "execute_result"
    }
   ],
   "source": [
    "add_p(group_brands(hev), hev.iloc[0, -1])"
   ]
  },
  {
   "cell_type": "code",
   "execution_count": 1135,
   "metadata": {},
   "outputs": [],
   "source": [
    "for df in [hev, phev, bev]:\n",
    "    reoffset_2().value = add_p(group_brands(df), df.iloc[0, -1])"
   ]
  },
  {
   "cell_type": "markdown",
   "metadata": {},
   "source": [
    "## Charting"
   ]
  },
  {
   "cell_type": "code",
   "execution_count": 1354,
   "metadata": {},
   "outputs": [
    {
     "data": {
      "text/plain": [
       "10"
      ]
     },
     "execution_count": 1354,
     "metadata": {},
     "output_type": "execute_result"
    }
   ],
   "source": [
    "int(dt.now().year - 2010)"
   ]
  },
  {
   "cell_type": "code",
   "execution_count": 1137,
   "metadata": {},
   "outputs": [],
   "source": [
    "# four top right corners\n",
    "ind_end = evc['XFD1'].end('left')\n",
    "hev_end = ind_end.offset(7, 0)\n",
    "phev_end = hev_end.end('down').offset(2, 0)\n",
    "bev_end = phev_end.end('down').offset(2, 0)"
   ]
  },
  {
   "cell_type": "code",
   "execution_count": 1138,
   "metadata": {},
   "outputs": [],
   "source": [
    "hev_end.end('left').value = 'HEV'\n",
    "phev_end.end('left').value = 'PHEV'\n",
    "bev_end.end('left').value = 'BEV'"
   ]
  },
  {
   "cell_type": "code",
   "execution_count": 1139,
   "metadata": {},
   "outputs": [
    {
     "data": {
      "text/plain": [
       "'$Y$8'"
      ]
     },
     "execution_count": 1139,
     "metadata": {},
     "output_type": "execute_result"
    }
   ],
   "source": [
    "hev_end.address"
   ]
  },
  {
   "cell_type": "code",
   "execution_count": 1140,
   "metadata": {},
   "outputs": [
    {
     "data": {
      "text/plain": [
       "'$Y$21'"
      ]
     },
     "execution_count": 1140,
     "metadata": {},
     "output_type": "execute_result"
    }
   ],
   "source": [
    "phev_end.address"
   ]
  },
  {
   "cell_type": "code",
   "execution_count": 1141,
   "metadata": {},
   "outputs": [
    {
     "data": {
      "text/plain": [
       "'$Y$35'"
      ]
     },
     "execution_count": 1141,
     "metadata": {},
     "output_type": "execute_result"
    }
   ],
   "source": [
    "bev_end.address"
   ]
  },
  {
   "cell_type": "code",
   "execution_count": 1347,
   "metadata": {},
   "outputs": [],
   "source": [
    "def add_pie_by_column(column): pass  # TODO:"
   ]
  },
  {
   "cell_type": "code",
   "execution_count": 1351,
   "metadata": {},
   "outputs": [],
   "source": [
    "def delete_labels_less_than_1(pie_chart):\n",
    "    for lab in pie_chart.Chart.SeriesCollection(1).DataLabels():\n",
    "        if float(re.findall(r'\\d+', lab.Text)[0]) < 0.2:\n",
    "            lab.Delete()"
   ]
  },
  {
   "cell_type": "code",
   "execution_count": 1355,
   "metadata": {},
   "outputs": [],
   "source": [
    "for i, right in enumerate([hev_end, phev_end, bev_end]):\n",
    "    evc.charts.add()\n",
    "    evc.charts[i].left = 670\n",
    "    evc.charts[i].top = 75 + (i * 200)\n",
    "    \n",
    "    evc.charts[i].set_source_data(\n",
    "        evc[\n",
    "            right.address + ':' + right.end('down').address\n",
    "            + ', ' + 'C' + str(right.row) + ':C' + str(right.end('down').row)\n",
    "        ]\n",
    "    )\n",
    "    \n",
    "    evc.charts[i].chart_type = 'pie'\n",
    "    \n",
    "    pie = evc.api.ChartObjects(evc.charts[i].name)\n",
    "    \n",
    "    title = pie.Chart.ChartTitle\n",
    "    title.Text += ' BY OEM, '\n",
    "    title.Text = ' '.join(title.Text.split()[2:]) + ' ' + ' '.join(title.Text.split()[:2])\n",
    "    \n",
    "    pie.Chart.ApplyDataLabels(\n",
    "        Type=5,\n",
    "        LegendKey=True,\n",
    "        AutoText = True,\n",
    "        HasLeaderLines=False,\n",
    "    )\n",
    "    \n",
    "    delete_labels_less_than_1(pie)\n",
    "    pie.Chart.SeriesCollection(1).DataLabels().Position = 2\n",
    "    \n",
    "    pie.Chart.HasLegend = False"
   ]
  },
  {
   "cell_type": "markdown",
   "metadata": {},
   "source": [
    "## Get Gas Data"
   ]
  },
  {
   "cell_type": "code",
   "execution_count": 1357,
   "metadata": {},
   "outputs": [],
   "source": [
    "ind_end.end('left').end('down').offset(1, 0).value = 'U.S. REGULAR CONVENTIONAL RETAIL GASOLINE PRICE USD/GALLON*'"
   ]
  },
  {
   "cell_type": "code",
   "execution_count": null,
   "metadata": {},
   "outputs": [],
   "source": []
  }
 ],
 "metadata": {
  "kernelspec": {
   "display_name": "Python 3",
   "language": "python",
   "name": "python3"
  },
  "language_info": {
   "codemirror_mode": {
    "name": "ipython",
    "version": 3
   },
   "file_extension": ".py",
   "mimetype": "text/x-python",
   "name": "python",
   "nbconvert_exporter": "python",
   "pygments_lexer": "ipython3",
   "version": "3.8.2"
  }
 },
 "nbformat": 4,
 "nbformat_minor": 4
}
