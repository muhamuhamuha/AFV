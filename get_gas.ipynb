{
 "cells": [
  {
   "cell_type": "code",
   "execution_count": null,
   "metadata": {},
   "outputs": [],
   "source": [
    "import re\n",
    "import xlwings as xw\n",
    "import pandas as pd\n",
    "\n",
    "from urllib.request import urlopen\n",
    "\n",
    "from pathlib import Path\n",
    "from pyquery import PyQuery\n",
    "from datetime import datetime"
   ]
  },
  {
   "cell_type": "code",
   "execution_count": null,
   "metadata": {},
   "outputs": [],
   "source": [
    "annual_url = (\n",
    "    'https://www.eia.gov/opendata/qb.php?'\n",
    "    'sdid=PET.EMM_EPMR_PTE_NUS_DPG.A'\n",
    ")\n",
    "monthly_url = (\n",
    "    'https://www.eia.gov/opendata/qb.php?'\n",
    "    'sdid=PET.EMM_EPMR_PTE_NUS_DPG.M'\n",
    ")"
   ]
  },
  {
   "cell_type": "code",
   "execution_count": 3,
   "metadata": {},
   "outputs": [],
   "source": [
    "ann_res = urlopen(annual_url)\n",
    "mon_res = urlopen(monthly_url)"
   ]
  },
  {
   "cell_type": "code",
   "execution_count": 4,
   "metadata": {},
   "outputs": [],
   "source": [
    "# # dead code\n",
    "# # python requests module sucks\n",
    "# # don't care what anybody says\n",
    "# heads = {\n",
    "#     'User-Agent': ('Mozilla/5.0 (Windows NT 10.0;'\n",
    "#                    ' Win64; x64; rv:74.0) Gecko/20'\n",
    "#                    '100101 Firefox/74.0'),\n",
    "# }\n",
    "\n",
    "# # get the pages\n",
    "# # this code only works when verify is false\n",
    "# with requests.Session() as sess:\n",
    "#     retry = Retry(connect=3, backoff_factor=0.5)\n",
    "#     adapter = HTTPAdapter(max_retries=retry)\n",
    "#     sess.mount('https://', adapter)\n",
    "#     ann_res = sess.get(annual_url, verify=True, headers=heads)\n",
    "#     mon_res = sess.get(monthly_url, verify=True, headers=heads)\n",
    "\n",
    "# if ann_res.status_code != 200:\n",
    "#     raise Exception('Doomed request, annual...')\n",
    "\n",
    "# if mon_res.status_code != 200:\n",
    "#     raise Exception('Doomed, monthly...')"
   ]
  },
  {
   "cell_type": "code",
   "execution_count": 5,
   "metadata": {},
   "outputs": [],
   "source": [
    "ann = PyQuery(ann_res.read())\n",
    "mon = PyQuery(mon_res.read())"
   ]
  },
  {
   "cell_type": "code",
   "execution_count": 6,
   "metadata": {},
   "outputs": [],
   "source": [
    "ann_cols = tuple(th.text for th in ann('th'))"
   ]
  },
  {
   "cell_type": "code",
   "execution_count": 7,
   "metadata": {},
   "outputs": [
    {
     "data": {
      "text/plain": [
       "('Series Name', 'Period', 'Frequency', 'Value', 'Units')"
      ]
     },
     "execution_count": 7,
     "metadata": {},
     "output_type": "execute_result"
    }
   ],
   "source": [
    "ann_cols"
   ]
  },
  {
   "cell_type": "code",
   "execution_count": 8,
   "metadata": {},
   "outputs": [],
   "source": [
    "ann_rows = tuple(td.text for td in ann('td'))"
   ]
  },
  {
   "cell_type": "code",
   "execution_count": 9,
   "metadata": {},
   "outputs": [],
   "source": [
    "mon_cols = tuple(th.text for th in mon('th'))"
   ]
  },
  {
   "cell_type": "code",
   "execution_count": 10,
   "metadata": {},
   "outputs": [
    {
     "data": {
      "text/plain": [
       "('Series Name', 'Period', 'Frequency', 'Value', 'Units')"
      ]
     },
     "execution_count": 10,
     "metadata": {},
     "output_type": "execute_result"
    }
   ],
   "source": [
    "mon_cols"
   ]
  },
  {
   "cell_type": "code",
   "execution_count": 11,
   "metadata": {},
   "outputs": [],
   "source": [
    "mon_rows = tuple(td.text for td in mon('td'))"
   ]
  },
  {
   "cell_type": "markdown",
   "metadata": {},
   "source": [
    "### Compiled ReGex"
   ]
  },
  {
   "cell_type": "code",
   "execution_count": 12,
   "metadata": {},
   "outputs": [],
   "source": [
    "annual_period = re.compile(r'\\d\\d\\d\\d')"
   ]
  },
  {
   "cell_type": "code",
   "execution_count": 13,
   "metadata": {},
   "outputs": [],
   "source": [
    "monthly_period = re.compile(r'\\d\\d\\d\\d\\d\\d')"
   ]
  },
  {
   "cell_type": "code",
   "execution_count": 14,
   "metadata": {},
   "outputs": [],
   "source": [
    "deci_vals = re.compile(r'\\d[.]\\d+')"
   ]
  },
  {
   "cell_type": "code",
   "execution_count": 15,
   "metadata": {},
   "outputs": [],
   "source": [
    "ann_table = dict.fromkeys(ann_cols)\n",
    "mon_table = dict.fromkeys(mon_cols)"
   ]
  },
  {
   "cell_type": "markdown",
   "metadata": {},
   "source": [
    "#### Ann Table"
   ]
  },
  {
   "cell_type": "code",
   "execution_count": 16,
   "metadata": {},
   "outputs": [],
   "source": [
    "ann_dud = (\n",
    "    'U.S. Regular All Formulations ' \n",
    "    'Retail Gasoline Prices, Annual'\n",
    ")"
   ]
  },
  {
   "cell_type": "code",
   "execution_count": 17,
   "metadata": {},
   "outputs": [],
   "source": [
    "ann_table['Series Name'] = tuple(\n",
    "    i for i in ann_rows if i == ann_dud\n",
    ")"
   ]
  },
  {
   "cell_type": "code",
   "execution_count": 18,
   "metadata": {},
   "outputs": [],
   "source": [
    "ann_table['Period'] = tuple(\n",
    "    i for i in ann_rows if re.match(annual_period, i)\n",
    ")"
   ]
  },
  {
   "cell_type": "code",
   "execution_count": 19,
   "metadata": {},
   "outputs": [],
   "source": [
    "ann_table['Frequency'] = tuple(\n",
    "    i for i in ann_rows if i == 'A'\n",
    ")"
   ]
  },
  {
   "cell_type": "code",
   "execution_count": 20,
   "metadata": {},
   "outputs": [],
   "source": [
    "ann_table['Value'] = tuple(\n",
    "    i for i in ann_rows if re.match(deci_vals, i)\n",
    "    or i == 'null'\n",
    ")"
   ]
  },
  {
   "cell_type": "code",
   "execution_count": 21,
   "metadata": {},
   "outputs": [],
   "source": [
    "ann_table['Units'] = tuple(\n",
    "    i for i in ann_rows if i == 'Dollars per Gallon'\n",
    ")"
   ]
  },
  {
   "cell_type": "code",
   "execution_count": 22,
   "metadata": {},
   "outputs": [],
   "source": [
    "if len(set(len(v) for v in ann_table.values())) != 1:\n",
    "    raise Exception(\n",
    "        'Annual-table dimensions are off: '\n",
    "        + str(tuple(len(v) for v in ann_table.values()))\n",
    "    )"
   ]
  },
  {
   "cell_type": "markdown",
   "metadata": {},
   "source": [
    "#### Mon Table"
   ]
  },
  {
   "cell_type": "code",
   "execution_count": 23,
   "metadata": {},
   "outputs": [
    {
     "data": {
      "text/plain": [
       "('U.S. Regular All Formulations Retail Gasoline Prices, Monthly',\n",
       " '199009',\n",
       " 'M',\n",
       " '1.258',\n",
       " 'Dollars per Gallon',\n",
       " 'U.S. Regular All Formulations Retail Gasoline Prices, Monthly',\n",
       " '199008',\n",
       " 'M',\n",
       " 'null',\n",
       " 'Dollars per Gallon')"
      ]
     },
     "execution_count": 23,
     "metadata": {},
     "output_type": "execute_result"
    }
   ],
   "source": [
    "mon_rows[-10:]"
   ]
  },
  {
   "cell_type": "code",
   "execution_count": 24,
   "metadata": {},
   "outputs": [],
   "source": [
    "mon_dud = (\n",
    "    'U.S. Regular All Formulations Retail Gasoline'\n",
    "    ' Prices, Monthly'\n",
    ")"
   ]
  },
  {
   "cell_type": "code",
   "execution_count": 25,
   "metadata": {},
   "outputs": [],
   "source": [
    "mon_table['Series Name'] = tuple(\n",
    "    i for i in mon_rows if i == mon_dud\n",
    ")"
   ]
  },
  {
   "cell_type": "code",
   "execution_count": 26,
   "metadata": {},
   "outputs": [],
   "source": [
    "mon_table['Period'] = tuple(\n",
    "    i for i in mon_rows if re.match(monthly_period, i)\n",
    ")"
   ]
  },
  {
   "cell_type": "code",
   "execution_count": 27,
   "metadata": {},
   "outputs": [],
   "source": [
    "mon_table['Frequency'] = tuple(\n",
    "    i for i in mon_rows if i == 'M'\n",
    ")"
   ]
  },
  {
   "cell_type": "code",
   "execution_count": 28,
   "metadata": {},
   "outputs": [],
   "source": [
    "mon_table['Value'] = tuple(\n",
    "    i for i in mon_rows if re.match(deci_vals, i)\n",
    "    or re.match(r'^\\d$', i)  # matches single number only\n",
    "    or i == 'null'\n",
    ")"
   ]
  },
  {
   "cell_type": "code",
   "execution_count": 29,
   "metadata": {},
   "outputs": [],
   "source": [
    "mon_table['Units'] = tuple(\n",
    "    i for i in mon_rows if i == 'Dollars per Gallon'\n",
    ")"
   ]
  },
  {
   "cell_type": "code",
   "execution_count": 30,
   "metadata": {},
   "outputs": [],
   "source": [
    "if len(set(len(v) for v in mon_table.values())) != 1:\n",
    "    raise Exception(\n",
    "        'Month-table dimensions are off: '\n",
    "        + str(tuple(len(v) for v in mon_table.values()))\n",
    "    )"
   ]
  },
  {
   "cell_type": "markdown",
   "metadata": {},
   "source": [
    "### The DFs"
   ]
  },
  {
   "cell_type": "code",
   "execution_count": 31,
   "metadata": {
    "scrolled": true
   },
   "outputs": [],
   "source": [
    "annual = pd.DataFrame(ann_table)"
   ]
  },
  {
   "cell_type": "code",
   "execution_count": 32,
   "metadata": {},
   "outputs": [],
   "source": [
    "monthly = pd.DataFrame(mon_table)"
   ]
  },
  {
   "cell_type": "code",
   "execution_count": 33,
   "metadata": {},
   "outputs": [],
   "source": [
    "monthly['Date'] = monthly['Period'].apply(\n",
    "    lambda x: datetime.strptime(x, '%Y%m')\n",
    ")"
   ]
  },
  {
   "cell_type": "markdown",
   "metadata": {},
   "source": [
    "## Current Gas Average"
   ]
  },
  {
   "cell_type": "code",
   "execution_count": 34,
   "metadata": {
    "scrolled": true
   },
   "outputs": [],
   "source": [
    "mon_avg = monthly[\n",
    "    monthly['Date'].apply(\n",
    "        lambda x: x.year == datetime.now().year\n",
    "    )\n",
    "]['Value'].apply(\n",
    "    lambda x: float(x)\n",
    ").mean()"
   ]
  },
  {
   "cell_type": "code",
   "execution_count": 35,
   "metadata": {},
   "outputs": [],
   "source": [
    "ann_avgs = annual[\n",
    "    (annual['Period'].apply(lambda x: int(x)) >= 2010)\n",
    "]['Value'].apply(\n",
    "    lambda x: float(x)\n",
    ").to_list()"
   ]
  },
  {
   "cell_type": "code",
   "execution_count": 36,
   "metadata": {},
   "outputs": [
    {
     "data": {
      "text/plain": [
       "'U.S. Regular All Formulations Retail Gasoline Prices, Annual'"
      ]
     },
     "execution_count": 36,
     "metadata": {},
     "output_type": "execute_result"
    }
   ],
   "source": [
    "annual.iloc[0, 0]"
   ]
  },
  {
   "cell_type": "code",
   "execution_count": 37,
   "metadata": {},
   "outputs": [
    {
     "data": {
      "text/plain": [
       "'U.S. Regular All Formulations Retail Gasoline Prices, Monthly'"
      ]
     },
     "execution_count": 37,
     "metadata": {},
     "output_type": "execute_result"
    }
   ],
   "source": [
    "monthly.iloc[0, 0]"
   ]
  },
  {
   "cell_type": "code",
   "execution_count": 38,
   "metadata": {},
   "outputs": [
    {
     "data": {
      "text/plain": [
       "2.495"
      ]
     },
     "execution_count": 38,
     "metadata": {},
     "output_type": "execute_result"
    }
   ],
   "source": [
    "mon_avg"
   ]
  },
  {
   "cell_type": "code",
   "execution_count": 39,
   "metadata": {},
   "outputs": [
    {
     "data": {
      "text/plain": [
       "[2.604, 2.719, 2.415, 2.143, 2.429, 3.358, 3.505, 3.618, 3.521, 2.782]"
      ]
     },
     "execution_count": 39,
     "metadata": {},
     "output_type": "execute_result"
    }
   ],
   "source": [
    "ann_avgs"
   ]
  }
 ],
 "metadata": {
  "kernelspec": {
   "display_name": "Python 3",
   "language": "python",
   "name": "python3"
  },
  "language_info": {
   "codemirror_mode": {
    "name": "ipython",
    "version": 3
   },
   "file_extension": ".py",
   "mimetype": "text/x-python",
   "name": "python",
   "nbconvert_exporter": "python",
   "pygments_lexer": "ipython3",
   "version": "3.8.2"
  }
 },
 "nbformat": 4,
 "nbformat_minor": 4
}
